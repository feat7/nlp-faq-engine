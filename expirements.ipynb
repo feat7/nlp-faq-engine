{
 "metadata": {
  "language_info": {
   "codemirror_mode": {
    "name": "ipython",
    "version": 3
   },
   "file_extension": ".py",
   "mimetype": "text/x-python",
   "name": "python",
   "nbconvert_exporter": "python",
   "pygments_lexer": "ipython3",
   "version": "3.7.3-final"
  },
  "orig_nbformat": 2,
  "kernelspec": {
   "name": "python37364bitcvndcondab14a51f27e0e4dd69b303ff47403d3bd",
   "display_name": "Python 3.7.3 64-bit ('cv-nd': conda)"
  }
 },
 "nbformat": 4,
 "nbformat_minor": 2,
 "cells": [
  {
   "cell_type": "code",
   "execution_count": 4,
   "metadata": {},
   "outputs": [],
   "source": [
    "import pandas as pd\n",
    "from sklearn.feature_extraction.text import TfidfVectorizer\n",
    "from sklearn.svm import SVC"
   ]
  },
  {
   "cell_type": "code",
   "execution_count": 6,
   "metadata": {},
   "outputs": [
    {
     "output_type": "execute_result",
     "data": {
      "text/plain": [
       "                                            Question  \\\n",
       "0  Does aggregate turnover include value of inwar...   \n",
       "1  What if the dealer migrated with wrong PAN as ...   \n",
       "2  A taxable person�s business is in many states....   \n",
       "3  Can we use provisional GSTIN or do we get new ...   \n",
       "4  Whether trader of country liquor is required t...   \n",
       "\n",
       "                                              Answer  \n",
       "0  Section 2(6) of CGST Act. Aggregate turnover d...  \n",
       "1  registration would be required as partnership ...  \n",
       "2  is liable to register if the aggregate turnove...  \n",
       "3  GSTIN (PID) should be converted into final GST...  \n",
       "4  the person is involved in 100% supply of goods...  "
      ],
      "text/html": "<div>\n<style scoped>\n    .dataframe tbody tr th:only-of-type {\n        vertical-align: middle;\n    }\n\n    .dataframe tbody tr th {\n        vertical-align: top;\n    }\n\n    .dataframe thead th {\n        text-align: right;\n    }\n</style>\n<table border=\"1\" class=\"dataframe\">\n  <thead>\n    <tr style=\"text-align: right;\">\n      <th></th>\n      <th>Question</th>\n      <th>Answer</th>\n    </tr>\n  </thead>\n  <tbody>\n    <tr>\n      <th>0</th>\n      <td>Does aggregate turnover include value of inwar...</td>\n      <td>Section 2(6) of CGST Act. Aggregate turnover d...</td>\n    </tr>\n    <tr>\n      <th>1</th>\n      <td>What if the dealer migrated with wrong PAN as ...</td>\n      <td>registration would be required as partnership ...</td>\n    </tr>\n    <tr>\n      <th>2</th>\n      <td>A taxable person�s business is in many states....</td>\n      <td>is liable to register if the aggregate turnove...</td>\n    </tr>\n    <tr>\n      <th>3</th>\n      <td>Can we use provisional GSTIN or do we get new ...</td>\n      <td>GSTIN (PID) should be converted into final GST...</td>\n    </tr>\n    <tr>\n      <th>4</th>\n      <td>Whether trader of country liquor is required t...</td>\n      <td>the person is involved in 100% supply of goods...</td>\n    </tr>\n  </tbody>\n</table>\n</div>"
     },
     "metadata": {},
     "execution_count": 6
    }
   ],
   "source": [
    "df = pd.read_csv('gst_faq_1.csv')\n",
    "df.head()"
   ]
  },
  {
   "cell_type": "code",
   "execution_count": 11,
   "metadata": {},
   "outputs": [],
   "source": [
    "df.dropna(inplace=True)"
   ]
  },
  {
   "cell_type": "code",
   "execution_count": 12,
   "metadata": {},
   "outputs": [],
   "source": [
    "documents = df['Question']\n",
    "vectorizer = TfidfVectorizer(stop_words='english').fit(documents)"
   ]
  },
  {
   "cell_type": "code",
   "execution_count": 30,
   "metadata": {},
   "outputs": [],
   "source": [
    "vectors = vectorizer.transform(documents)"
   ]
  },
  {
   "cell_type": "code",
   "execution_count": 32,
   "metadata": {},
   "outputs": [
    {
     "output_type": "execute_result",
     "data": {
      "text/plain": [
       "(153, 591)"
      ]
     },
     "metadata": {},
     "execution_count": 32
    }
   ],
   "source": [
    "vectors.shape"
   ]
  },
  {
   "cell_type": "code",
   "execution_count": 46,
   "metadata": {},
   "outputs": [],
   "source": [
    "from sklearn.metrics.pairwise import cosine_similarity"
   ]
  },
  {
   "cell_type": "code",
   "execution_count": 51,
   "metadata": {},
   "outputs": [],
   "source": [
    "cosine_similarities = cosine_similarity(vectorizer.transform([\"how to register as isd\"]), vectors).flatten()"
   ]
  },
  {
   "cell_type": "code",
   "execution_count": 52,
   "metadata": {},
   "outputs": [
    {
     "output_type": "execute_result",
     "data": {
      "text/plain": [
       "array([0.        , 0.        , 0.        , 0.        , 0.        ,\n",
       "       0.        , 0.        , 0.        , 0.        , 0.        ,\n",
       "       0.        , 0.54866821, 0.        , 0.        , 0.        ,\n",
       "       0.10498044, 0.09891163, 0.11606934, 0.        , 0.        ,\n",
       "       0.        , 0.        , 0.09081526, 0.19511574, 0.21560905,\n",
       "       0.        , 0.15488055, 0.        , 0.        , 0.        ,\n",
       "       0.        , 0.        , 0.11561682, 0.        , 0.13946833,\n",
       "       0.        , 0.0951969 , 0.        , 0.        , 0.14512371,\n",
       "       0.13967631, 0.        , 0.13460138, 0.        , 0.        ,\n",
       "       0.        , 0.        , 0.        , 0.        , 0.        ,\n",
       "       0.        , 0.        , 0.        , 0.        , 0.        ,\n",
       "       0.        , 0.        , 0.        , 0.        , 0.        ,\n",
       "       0.        , 0.        , 0.        , 0.        , 0.        ,\n",
       "       0.        , 0.        , 0.        , 0.        , 0.        ,\n",
       "       0.        , 0.        , 0.        , 0.        , 0.        ,\n",
       "       0.        , 0.        , 0.        , 0.        , 0.        ,\n",
       "       0.        , 0.        , 0.        , 0.        , 0.        ,\n",
       "       0.        , 0.        , 0.        , 0.        , 0.        ,\n",
       "       0.        , 0.        , 0.        , 0.        , 0.        ,\n",
       "       0.        , 0.        , 0.        , 0.        , 0.        ,\n",
       "       0.        , 0.        , 0.        , 0.        , 0.        ,\n",
       "       0.        , 0.        , 0.        , 0.        , 0.        ,\n",
       "       0.        , 0.        , 0.        , 0.        , 0.        ,\n",
       "       0.        , 0.        , 0.        , 0.        , 0.        ,\n",
       "       0.        , 0.12712584, 0.        , 0.        , 0.        ,\n",
       "       0.        , 0.        , 0.        , 0.        , 0.        ,\n",
       "       0.        , 0.        , 0.13673973, 0.        , 0.        ,\n",
       "       0.        , 0.        , 0.        , 0.        , 0.        ,\n",
       "       0.        , 0.        , 0.        , 0.        , 0.        ,\n",
       "       0.        , 0.        , 0.        , 0.        , 0.        ,\n",
       "       0.        , 0.        , 0.        ])"
      ]
     },
     "metadata": {},
     "execution_count": 52
    }
   ],
   "source": [
    "cosine_similarities"
   ]
  },
  {
   "cell_type": "code",
   "execution_count": 53,
   "metadata": {},
   "outputs": [
    {
     "output_type": "execute_result",
     "data": {
      "text/plain": [
       "array([11, 24, 23, 26])"
      ]
     },
     "metadata": {},
     "execution_count": 53
    }
   ],
   "source": [
    "related_document_indices = cosine_similarities.argsort()[:-5:-1]\n",
    "related_document_indices"
   ]
  },
  {
   "cell_type": "code",
   "execution_count": 54,
   "metadata": {},
   "outputs": [
    {
     "output_type": "stream",
     "name": "stdout",
     "text": [
      "I have migrated under GST but want to register as ISD. Whether I can apply now & what is the procedure? \nseparate & new registration is required for ISD. \n\n--------\n\n\nWhat If I am not liable to register under GST but I was registered under Service tax ? \ncan apply for cancellation of Provisional ID on or before 31st July 2017.  \n\n--------\n\n\nHow long can I wait to register in GST ? \nunregistered person has 30 days to complete its registration formalities from its date of liability to obtain registration.  \n\n--------\n\n\nIf I am not an existing taxpayer and wish to newly register under GST, when can I do so? \nwould be able to apply for new registration at the GST Portal gst.gov.in \n\n--------\n\n\n"
     ]
    }
   ],
   "source": [
    "for index in related_document_indices:\n",
    "    print(f\"{df.iloc[index]['Question']}\\n{df.iloc[index]['Answer']} \\n\\n--------\\n\\n\")"
   ]
  },
  {
   "cell_type": "code",
   "execution_count": 1,
   "metadata": {},
   "outputs": [],
   "source": [
    "from faqengine import FAQEngine"
   ]
  },
  {
   "cell_type": "code",
   "execution_count": 2,
   "metadata": {},
   "outputs": [],
   "source": [
    "faqengine = FAQEngine(csv_file='gst_faq_1.csv')"
   ]
  },
  {
   "cell_type": "code",
   "execution_count": 3,
   "metadata": {},
   "outputs": [],
   "source": [
    "results = faqengine.perform_query(\"register isd\")"
   ]
  },
  {
   "cell_type": "code",
   "execution_count": 7,
   "metadata": {},
   "outputs": [],
   "source": [
    "# results = results.reset_index(drop=True).to_dict(orient='records')"
   ]
  },
  {
   "cell_type": "code",
   "execution_count": 5,
   "metadata": {},
   "outputs": [
    {
     "output_type": "execute_result",
     "data": {
      "text/plain": [
       "[{'Question': 'I have migrated under GST but want to register as ISD. Whether I can apply now & what is the procedure? ',\n",
       "  'Answer': 'separate & new registration is required for ISD.'},\n",
       " {'Question': 'How long can I wait to register in GST ? ',\n",
       "  'Answer': 'unregistered person has 30 days to complete its registration formalities from its date of liability to obtain registration. '},\n",
       " {'Question': 'What If I am not liable to register under GST but I was registered under Service tax ? ',\n",
       "  'Answer': 'can apply for cancellation of Provisional ID on or before 31st July 2017. '},\n",
       " {'Question': 'If I am not an existing taxpayer and wish to newly register under GST, when can I do so? ',\n",
       "  'Answer': 'would be able to apply for new registration at the GST Portal gst.gov.in'}]"
      ]
     },
     "metadata": {},
     "execution_count": 5
    }
   ],
   "source": [
    "results"
   ]
  },
  {
   "cell_type": "code",
   "execution_count": 6,
   "metadata": {},
   "outputs": [
    {
     "output_type": "stream",
     "name": "stdout",
     "text": [
      "{'Question': 'I have migrated under GST but want to register as ISD. Whether I can apply now & what is the procedure? ', 'Answer': 'separate & new registration is required for ISD.'}\n\n\n{'Question': 'How long can I wait to register in GST ? ', 'Answer': 'unregistered person has 30 days to complete its registration formalities from its date of liability to obtain registration. '}\n\n\n{'Question': 'What If I am not liable to register under GST but I was registered under Service tax ? ', 'Answer': 'can apply for cancellation of Provisional ID on or before 31st July 2017. '}\n\n\n{'Question': 'If I am not an existing taxpayer and wish to newly register under GST, when can I do so? ', 'Answer': 'would be able to apply for new registration at the GST Portal gst.gov.in'}\n\n\n"
     ]
    }
   ],
   "source": [
    "for result in results:\n",
    "    print(result)\n",
    "    print(\"\\n\")"
   ]
  },
  {
   "cell_type": "code",
   "execution_count": null,
   "metadata": {},
   "outputs": [],
   "source": []
  }
 ]
}